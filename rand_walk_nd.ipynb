{
  "cells": [
    {
      "cell_type": "markdown",
      "id": "5066ce2a-9b65-4cea-8ac9-0bf93ffec4f1",
      "metadata": {
        "id": "5066ce2a-9b65-4cea-8ac9-0bf93ffec4f1"
      },
      "source": [
        "# random walk n-d"
      ]
    },
    {
      "cell_type": "markdown",
      "id": "a8011de6-c300-4d99-aafa-2e468f90082c",
      "metadata": {
        "id": "a8011de6-c300-4d99-aafa-2e468f90082c"
      },
      "source": [
        "## assignment 5\n",
        "1. Explain the influence of `Nrep` to value of `mean distance` in 1-d random walk.\n",
        "2. Explain the influence of `Nrep` to value of `mean distance` in 2-d random walk.\n",
        "3. Explain the influence of `Nrep` to value of `mean squared distance` in 1-d random walk.\n",
        "4. Explain the influence of `Nrep` to value of `mean squared distance` in 2-d random walk.\n",
        "5. Summerize and generalize the influence of `Nrep` to value of `mean distance` and `mean squared distance` in n-d random walk."
      ]
    },
    {
      "cell_type": "code",
      "execution_count": null,
      "id": "45f214a9-535b-4779-a732-b5e0a88ad21d",
      "metadata": {
        "id": "45f214a9-535b-4779-a732-b5e0a88ad21d"
      },
      "outputs": [],
      "source": []
    },
    {
      "cell_type": "markdown",
      "source": [
        "Pengaruh Nrep terhadap mean distance pada 1D Random Walk\n",
        "Ketika jumlah replikasi Nrep masih kecil (misalnya 100), fluktuasi nilai rata-rata posisi ⟨x⟩ cenderung besar karena jumlah sampel belum cukup untuk menyeimbangkan arah kanan dan kiri secara statistik.\n",
        "Namun, seiring bertambahnya Nrep (misalnya hingga 1000 atau 10000), nilai ⟨x⟩ semakin mendekati nol. Hal ini konsisten dengan prediksi teoretis bahwa pergeseran rata-rata dalam proses acak jangka panjang bernilai nol.\n",
        "\n",
        "Pengaruh Nrep terhadap mean distance pada 2D Random Walk\n",
        "Pola yang serupa juga terjadi pada 2D random walk. Untuk jumlah replikasi kecil, nilai rata-rata posisi masih mengalami deviasi dari nol karena dominasi langkah acak pada arah tertentu.\n",
        "Ketika Nrep meningkat, deviasi tersebut semakin kecil, dan vektor posisi rata-rata mendekati nol, menunjukkan keseimbangan arah yang lebih baik secara statistik.\n",
        "\n",
        "Pengaruh Nrep terhadap mean squared distance pada 1D Random Walk\n",
        "Nilai ⟨x²⟩ meningkat secara hampir linier terhadap jumlah langkah (Nstep) karena semakin banyak langkah menghasilkan penyebaran posisi yang lebih besar secara statistik.\n",
        "Dengan meningkatnya Nrep, kurva ⟨x²⟩ menjadi lebih halus dan mendekati perilaku teoretis difusi, yakni ⟨x²⟩ ≈ Nstep.\n",
        "\n",
        "Pengaruh Nrep terhadap mean squared distance pada 2D Random Walk\n",
        "Pada dua dimensi, ⟨r²⟩ (rata-rata kuadrat jarak dari titik awal) juga menunjukkan pertumbuhan linier terhadap Nstep.\n",
        "Sama seperti pada 1D, semakin besar Nrep, hasil simulasi semakin halus dan konsisten dengan prediksi teori difusi: ⟨r²⟩ ≈ Nstep, dengan variansi antar replikasi yang semakin kecil.\n",
        "\n"
      ],
      "metadata": {
        "id": "C8TkBKcAbC0-"
      },
      "id": "C8TkBKcAbC0-"
    }
  ],
  "metadata": {
    "kernelspec": {
      "display_name": "Python 3 (ipykernel)",
      "language": "python",
      "name": "python3"
    },
    "language_info": {
      "codemirror_mode": {
        "name": "ipython",
        "version": 3
      },
      "file_extension": ".py",
      "mimetype": "text/x-python",
      "name": "python",
      "nbconvert_exporter": "python",
      "pygments_lexer": "ipython3",
      "version": "3.12.9"
    },
    "colab": {
      "provenance": []
    }
  },
  "nbformat": 4,
  "nbformat_minor": 5
}